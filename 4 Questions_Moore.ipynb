{
  "nbformat": 4,
  "nbformat_minor": 0,
  "metadata": {
    "colab": {
      "name": "Untitled0.ipynb",
      "provenance": [],
      "authorship_tag": "ABX9TyMW8B5Dn3XlVwUS0uT3rrEX",
      "include_colab_link": true
    },
    "kernelspec": {
      "name": "python3",
      "display_name": "Python 3"
    },
    "language_info": {
      "name": "python"
    }
  },
  "cells": [
    {
      "cell_type": "markdown",
      "metadata": {
        "id": "view-in-github",
        "colab_type": "text"
      },
      "source": [
        "<a href=\"https://colab.research.google.com/github/OneAirbendyBoi/Unit-1/blob/main/4%20Questions_Moore.ipynb\" target=\"_parent\"><img src=\"https://colab.research.google.com/assets/colab-badge.svg\" alt=\"Open In Colab\"/></a>"
      ]
    },
    {
      "cell_type": "markdown",
      "metadata": {
        "id": "nL0bHf-q5BXj"
      },
      "source": [
        "1) Write a program that calculates sum of all integers 0 to 2021\n"
      ]
    },
    {
      "cell_type": "code",
      "metadata": {
        "colab": {
          "base_uri": "https://localhost:8080/"
        },
        "id": "oxPalvILvnnr",
        "outputId": "30cd7a42-77b6-4066-d0dc-52cafa529019"
      },
      "source": [
        "start_num = 0\n",
        "end_num = 2021\n",
        "\n",
        "n = end_num - start_num\n",
        "#calculate the addition\n",
        "result = n*(n+1)/2\n",
        "print(\"the addition of integers from\" ,start_num, \"to\" ,end_num, \"is\" ,result)"
      ],
      "execution_count": 1,
      "outputs": [
        {
          "output_type": "stream",
          "text": [
            "the addition of integers from 0 to 2021 is 2043231.0\n"
          ],
          "name": "stdout"
        }
      ]
    },
    {
      "cell_type": "markdown",
      "metadata": {
        "id": "2wY05szfwb8O"
      },
      "source": [
        "Arithmetic sequence = $$ sum = 1/2*n(n+1) $$"
      ]
    },
    {
      "cell_type": "markdown",
      "metadata": {
        "id": "OjNPhJkizchd"
      },
      "source": [
        "2) Write a program that calculates value of y in y=2(x+3)-3\n"
      ]
    },
    {
      "cell_type": "code",
      "metadata": {
        "colab": {
          "base_uri": "https://localhost:8080/"
        },
        "id": "0_E_0EKxzh_0",
        "outputId": "02615823-747d-4bd4-a2e9-1c8e9fd85389"
      },
      "source": [
        "\n",
        "x = int(input(\"Enter any number\"))\n",
        "y = 2*( x + 3 ) - 3\n",
        "print(\"y =\",y,)\n"
      ],
      "execution_count": 1,
      "outputs": [
        {
          "output_type": "stream",
          "text": [
            "Enter any number10\n",
            "y = 23\n"
          ],
          "name": "stdout"
        }
      ]
    },
    {
      "cell_type": "markdown",
      "metadata": {
        "id": "cGR-uvIi0okG"
      },
      "source": [
        "3) Write a program that asks for a user's name and grade and outputs their email"
      ]
    },
    {
      "cell_type": "code",
      "metadata": {
        "colab": {
          "base_uri": "https://localhost:8080/"
        },
        "id": "BJeHXuK30y15",
        "outputId": "0c2414f5-06da-4215-92d8-ad4bfc172a2b"
      },
      "source": [
        "#ask for name\n",
        "first_name = (input(\"Enter first name here\"))\n",
        "last_name = (input(\"Enter last name here\"))\n",
        "#ask for grade\n",
        "grade = int(input(\"Enter grade here (10,11,12)\"))\n",
        "#determine year of graduation\n",
        "year = 2034 - grade \n",
        "#give email\n",
        "print(\"your email is:\" ,year,\".\",first_name,\".\",last_name,\"@uwcisak.jp\")"
      ],
      "execution_count": 1,
      "outputs": [
        {
          "output_type": "stream",
          "text": [
            "Enter first name herecolin\n",
            "Enter last name heremoore\n",
            "Enter grade here (10,11,12)11\n",
            "your email is: 2023 . colin . moore @uwcisak.jp\n"
          ],
          "name": "stdout"
        }
      ]
    },
    {
      "cell_type": "markdown",
      "metadata": {
        "id": "W6hn3RBW50OY"
      },
      "source": [
        "4)Write a program that converts temperature from fahrenheit to celsius"
      ]
    },
    {
      "cell_type": "code",
      "metadata": {
        "colab": {
          "base_uri": "https://localhost:8080/"
        },
        "id": "7P85cew95zl4",
        "outputId": "fad91602-5c77-4338-e6d1-1ecb236a19a6"
      },
      "source": [
        "#ask for temp in F\n",
        "Fahrenheit = int(input(\"enter degrees in fahrenheit here\"))\n",
        "#fahrenheit to celsius conversion\n",
        "Celsius = 5*(Fahrenheit - 32)/9\n",
        "#Output\n",
        "print(Fahrenheit,'degrees fahrenheit is equal to' ,Celsius, \"degrees celsius\")"
      ],
      "execution_count": 1,
      "outputs": [
        {
          "output_type": "stream",
          "text": [
            "enter degrees in fahrenheit here100\n",
            "100 degrees fahrenheit is equal to 37.77777777777778 degrees celsius\n"
          ],
          "name": "stdout"
        }
      ]
    }
  ]
}