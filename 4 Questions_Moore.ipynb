{
  "nbformat": 4,
  "nbformat_minor": 0,
  "metadata": {
    "colab": {
      "name": "Untitled0.ipynb",
      "provenance": [],
      "authorship_tag": "ABX9TyM81ai37Y0eCwmcQd7LqtZO",
      "include_colab_link": true
    },
    "kernelspec": {
      "name": "python3",
      "display_name": "Python 3"
    },
    "language_info": {
      "name": "python"
    }
  },
  "cells": [
    {
      "cell_type": "markdown",
      "metadata": {
        "id": "view-in-github",
        "colab_type": "text"
      },
      "source": [
        "<a href=\"https://colab.research.google.com/github/OneAirbendyBoi/Unit-1/blob/main/4%20Questions_Moore.ipynb\" target=\"_parent\"><img src=\"https://colab.research.google.com/assets/colab-badge.svg\" alt=\"Open In Colab\"/></a>"
      ]
    },
    {
      "cell_type": "markdown",
      "metadata": {
        "id": "nL0bHf-q5BXj"
      },
      "source": [
        "1) Write a program that calculates sum of all integers 0 to 2021\n"
      ]
    },
    {
      "cell_type": "code",
      "metadata": {
        "colab": {
          "base_uri": "https://localhost:8080/"
        },
        "id": "oxPalvILvnnr",
        "outputId": "30cd7a42-77b6-4066-d0dc-52cafa529019"
      },
      "source": [
        "start_num = 0\n",
        "end_num = 2021\n",
        "\n",
        "n = end_num - start_num\n",
        "#calculate the addition\n",
        "result = n*(n+1)/2\n",
        "print(\"the addition of integers from\" ,start_num, \"to\" ,end_num, \"is\" ,result)"
      ],
      "execution_count": null,
      "outputs": [
        {
          "output_type": "stream",
          "text": [
            "the addition of integers from 0 to 2021 is 2043231.0\n"
          ],
          "name": "stdout"
        }
      ]
    },
    {
      "cell_type": "markdown",
      "metadata": {
        "id": "2wY05szfwb8O"
      },
      "source": [
        "Arithmetic sequence = $$ sum = 1/2*n(n+1) $$"
      ]
    },
    {
      "cell_type": "markdown",
      "metadata": {
        "id": "OjNPhJkizchd"
      },
      "source": [
        "2) Write a program that calculates value of y in y=2(x+3)-3\n"
      ]
    },
    {
      "cell_type": "code",
      "metadata": {
        "colab": {
          "base_uri": "https://localhost:8080/"
        },
        "id": "0_E_0EKxzh_0",
        "outputId": "02615823-747d-4bd4-a2e9-1c8e9fd85389"
      },
      "source": [
        "\n",
        "x = int(input(\"Enter any number\"))\n",
        "y = 2*( x + 3 ) - 3\n",
        "print(\"y =\",y,)\n"
      ],
      "execution_count": null,
      "outputs": [
        {
          "output_type": "stream",
          "text": [
            "Enter any number10\n",
            "y = 23\n"
          ],
          "name": "stdout"
        }
      ]
    },
    {
      "cell_type": "markdown",
      "metadata": {
        "id": "cGR-uvIi0okG"
      },
      "source": [
        "3) Write a program that asks for a user's name and grade and outputs their email"
      ]
    },
    {
      "cell_type": "code",
      "metadata": {
        "colab": {
          "base_uri": "https://localhost:8080/"
        },
        "id": "BJeHXuK30y15",
        "outputId": "0c2414f5-06da-4215-92d8-ad4bfc172a2b"
      },
      "source": [
        "#ask for name\n",
        "first_name = (input(\"Enter first name here\"))\n",
        "last_name = (input(\"Enter last name here\"))\n",
        "#ask for grade\n",
        "grade = int(input(\"Enter grade here (10,11,12)\"))\n",
        "#determine year of graduation\n",
        "year = 2034 - grade \n",
        "#give email\n",
        "print(\"your email is:\" ,year,\".\",first_name,\".\",last_name,\"@uwcisak.jp\")"
      ],
      "execution_count": null,
      "outputs": [
        {
          "output_type": "stream",
          "text": [
            "Enter first name herecolin\n",
            "Enter last name heremoore\n",
            "Enter grade here (10,11,12)11\n",
            "your email is: 2023 . colin . moore @uwcisak.jp\n"
          ],
          "name": "stdout"
        }
      ]
    },
    {
      "cell_type": "markdown",
      "metadata": {
        "id": "W6hn3RBW50OY"
      },
      "source": [
        "4)Write a program that converts temperature from fahrenheit to celsius"
      ]
    },
    {
      "cell_type": "code",
      "metadata": {
        "colab": {
          "base_uri": "https://localhost:8080/"
        },
        "id": "7P85cew95zl4",
        "outputId": "fad91602-5c77-4338-e6d1-1ecb236a19a6"
      },
      "source": [
        "#ask for temp in F\n",
        "Fahrenheit = int(input(\"enter degrees in fahrenheit here\"))\n",
        "#fahrenheit to celsius conversion\n",
        "Celsius = 5*(Fahrenheit - 32)/9\n",
        "#Output\n",
        "print(Fahrenheit,'degrees fahrenheit is equal to' ,Celsius, \"degrees celsius\")"
      ],
      "execution_count": null,
      "outputs": [
        {
          "output_type": "stream",
          "text": [
            "enter degrees in fahrenheit here100\n",
            "100 degrees fahrenheit is equal to 37.77777777777778 degrees celsius\n"
          ],
          "name": "stdout"
        }
      ]
    },
    {
      "cell_type": "markdown",
      "metadata": {
        "id": "E3a9_Cn39tp9"
      },
      "source": [
        "5) Miles to Kilometers\n",
        "\n",
        "$$Miles = 1.609 * kilometers$$"
      ]
    },
    {
      "cell_type": "code",
      "metadata": {
        "id": "wipf59mv-Cic"
      },
      "source": [
        "#ask for amount of miles\n",
        "Miles = int(input(\"enter miles here\"))\n",
        "#miles to kilometers conversion\n",
        "Kilometers = 1.609 * Miles\n",
        "#Output\n",
        "print(f\"{Miles} miles are equal to {Kilometers} kilometers\")"
      ],
      "execution_count": null,
      "outputs": []
    },
    {
      "cell_type": "markdown",
      "metadata": {
        "id": "37aJ3MBH_CDm"
      },
      "source": [
        "7) Write a program that reverses a number input by the user (eg. 123, 321)"
      ]
    },
    {
      "cell_type": "code",
      "metadata": {
        "id": "z-imZv8B_QRS",
        "outputId": "4e8ffa99-8d55-4587-d3cb-ee9327c2930b",
        "colab": {
          "base_uri": "https://localhost:8080/"
        }
      },
      "source": [
        "#ask for number\n",
        "number = int(input(\"enter number here\"))\n",
        "str_number = str(number) #convert to string\n",
        "#reverse numbers [start:end:step]\n",
        "print(str_number[-1:0:-1])"
      ],
      "execution_count": 2,
      "outputs": [
        {
          "output_type": "stream",
          "text": [
            "enter number here876\n",
            "67\n"
          ],
          "name": "stdout"
        }
      ]
    },
    {
      "cell_type": "markdown",
      "metadata": {
        "id": "-38DtHPzEr6F"
      },
      "source": [
        "6) write a program for the quadratic formula\n",
        "$$quadratic formula = x = (-b +/- sqrt(b^2 - 4*a*c))/2*a$$"
      ]
    },
    {
      "cell_type": "code",
      "metadata": {
        "id": "3hD_n3LgFEUF",
        "outputId": "81d459f1-14e4-42e9-e20e-b6629eab8ea8",
        "colab": {
          "base_uri": "https://localhost:8080/"
        }
      },
      "source": [
        "#ask for number\n",
        "a = int(input(\"enter a here\"))\n",
        "b = int(input(\"enter b here\"))\n",
        "c = int(input(\"enter c here\"))\n",
        "#quadratic formula\n",
        "x = (-b + ((b**2)  - (4 * a * c))**1/2) / (2 * a)\n",
        "x2 = (-b - ((b**2)  - (4 * a * c))**1/2) / (2 * a)\n",
        "print(f\"x = {x} , {x2}\")"
      ],
      "execution_count": 1,
      "outputs": [
        {
          "output_type": "stream",
          "text": [
            "enter a here1\n",
            "enter b here4\n",
            "enter c here4\n",
            "x = -2.0\n"
          ],
          "name": "stdout"
        }
      ]
    },
    {
      "cell_type": "markdown",
      "metadata": {
        "id": "EOHu7KPEJ2w6"
      },
      "source": [
        "8) write a program that asks for name, age, and place of residence, and spites back out a greeting"
      ]
    },
    {
      "cell_type": "code",
      "metadata": {
        "id": "-BhTVHc5OFG8",
        "outputId": "ca825563-20b5-4d8f-9a12-50866196d510",
        "colab": {
          "base_uri": "https://localhost:8080/"
        }
      },
      "source": [
        "#ask name, age, place\n",
        "name = input(\"enter name here\")\n",
        "age = int(input(\"enter age here\"))\n",
        "residence = input(\"enter place of residence here\")\n",
        "#spit out greeting\n",
        "print(f\"Nice to meet you {name}! You are {age} years old from {residence}\")"
      ],
      "execution_count": 1,
      "outputs": [
        {
          "output_type": "stream",
          "text": [
            "enter name hereColin Moore\n",
            "enter age here16\n",
            "enter place of residence hereUnited States\n",
            "Nice to meet you Colin Moore! You are 16 years old from United States\n"
          ],
          "name": "stdout"
        }
      ]
    },
    {
      "cell_type": "markdown",
      "metadata": {
        "id": "D9O-2LoOQrTl"
      },
      "source": [
        "9) Write a program that converts gallons to liters\n"
      ]
    },
    {
      "cell_type": "code",
      "metadata": {
        "id": "BFOxkkpQQ7Y9",
        "outputId": "22e1df5d-abd2-4fb1-db5c-a9067187108b",
        "colab": {
          "base_uri": "https://localhost:8080/"
        }
      },
      "source": [
        "#ask for gallons\n",
        "gal = int(input(\"enter gallons here\"))\n",
        "#conversion\n",
        "liters = 3.78541 * gal\n",
        "#output\n",
        "print(f\"{gal} gallons = {liters} liters\")"
      ],
      "execution_count": 1,
      "outputs": [
        {
          "output_type": "stream",
          "text": [
            "enter gallons here20\n",
            "20 gallons = 75.7082 liters\n"
          ],
          "name": "stdout"
        }
      ]
    }
  ]
}