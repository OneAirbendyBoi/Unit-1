{
  "nbformat": 4,
  "nbformat_minor": 0,
  "metadata": {
    "colab": {
      "name": "Untitled1.ipynb",
      "provenance": [],
      "authorship_tag": "ABX9TyNp3wFUwf7GYj50Jx6hDpso",
      "include_colab_link": true
    },
    "kernelspec": {
      "name": "python3",
      "display_name": "Python 3"
    },
    "language_info": {
      "name": "python"
    }
  },
  "cells": [
    {
      "cell_type": "markdown",
      "metadata": {
        "id": "view-in-github",
        "colab_type": "text"
      },
      "source": [
        "<a href=\"https://colab.research.google.com/github/OneAirbendyBoi/Unit-1/blob/main/if_exercises.ipynb\" target=\"_parent\"><img src=\"https://colab.research.google.com/assets/colab-badge.svg\" alt=\"Open In Colab\"/></a>"
      ]
    },
    {
      "cell_type": "markdown",
      "metadata": {
        "id": "Yt8Wc3SmJ68n"
      },
      "source": [
        "Given two smaller numbers, print smaller value"
      ]
    },
    {
      "cell_type": "code",
      "metadata": {
        "colab": {
          "base_uri": "https://localhost:8080/"
        },
        "id": "b4QUgx5mKGTR",
        "outputId": "f9e2ad66-c6ed-41e3-a9dc-589d4bb1930b"
      },
      "source": [
        "x = int(input(\"insert number here\"))\n",
        "y = int(input(\"insert second number here\"))\n",
        "if x > y: \n",
        "  print (y)\n",
        "else:\n",
        "  if x == y:\n",
        "    print(\"=\")\n",
        "  else: print(x)"
      ],
      "execution_count": 25,
      "outputs": [
        {
          "output_type": "stream",
          "name": "stdout",
          "text": [
            "insert number here6\n",
            "insert second number here5\n",
            "5\n"
          ]
        }
      ]
    },
    {
      "cell_type": "markdown",
      "metadata": {
        "id": "A2Csn12iLBd3"
      },
      "source": [
        "Sign Function"
      ]
    },
    {
      "cell_type": "code",
      "metadata": {
        "colab": {
          "base_uri": "https://localhost:8080/"
        },
        "id": "LPditsTuL0CF",
        "outputId": "fec833b3-82ae-40aa-ac0d-f2e68f92b8b7"
      },
      "source": [
        "num = int(input(\"insert integer here\"))\n",
        "if num > 0:\n",
        "  print(\"1\")\n",
        "else:\n",
        "  if num == 0:\n",
        "    print(\"0\")\n",
        "  else: print(\"-1\")"
      ],
      "execution_count": 28,
      "outputs": [
        {
          "output_type": "stream",
          "name": "stdout",
          "text": [
            "insert integer here-10000000\n",
            "-1\n"
          ]
        }
      ]
    },
    {
      "cell_type": "markdown",
      "metadata": {
        "id": "SFDJs2L9OY5f"
      },
      "source": [
        "Given 3 numbers find smallest value"
      ]
    },
    {
      "cell_type": "code",
      "metadata": {
        "colab": {
          "base_uri": "https://localhost:8080/"
        },
        "id": "xAy6mFtgOcte",
        "outputId": "c803d164-53dc-4536-a778-7f7959e97924"
      },
      "source": [
        "x = int(input(\"insert number here\"))\n",
        "y = int(input(\"insert second number here\"))\n",
        "z = int(input(\"insert third number here\"))\n",
        "if x > y:\n",
        "  if y > z:\n",
        "    print(z)\n",
        "  else: print(y)\n",
        "else:\n",
        "  if x == y:\n",
        "    if x == z:\n",
        "      print(\"=\")\n",
        "    else:\n",
        "      if x > z:\n",
        "        print(z)\n",
        "      else: print(x)\n",
        "  else:\n",
        "    if x > z:\n",
        "      print(z)\n",
        "    else: print(x)"
      ],
      "execution_count": 35,
      "outputs": [
        {
          "output_type": "stream",
          "name": "stdout",
          "text": [
            "insert number here5\n",
            "insert second number here4\n",
            "insert third number here3\n",
            "3\n"
          ]
        }
      ]
    },
    {
      "cell_type": "markdown",
      "metadata": {
        "id": "0mapsV94RRII"
      },
      "source": [
        "3 Equal Numbers"
      ]
    },
    {
      "cell_type": "code",
      "metadata": {
        "colab": {
          "base_uri": "https://localhost:8080/"
        },
        "id": "BU1dJ032RcZk",
        "outputId": "073ada71-3f9b-4362-d2cf-e80fd580cba0"
      },
      "source": [
        "x = int(input(\"insert number here\"))\n",
        "y = int(input(\"insert second number here\"))\n",
        "z = int(input(\"insert third number here\"))\n",
        "if x == y:\n",
        "  if x == z:\n",
        "    print(\"3\")\n",
        "  else: print(\"2\")\n",
        "else:\n",
        "  if y == z:\n",
        "    print(\"2\")\n",
        "  else:\n",
        "    if x == z:\n",
        "      print(\"2\")\n",
        "    else: print(\"0\")"
      ],
      "execution_count": 42,
      "outputs": [
        {
          "output_type": "stream",
          "name": "stdout",
          "text": [
            "insert number here4\n",
            "insert second number here6\n",
            "insert third number here4\n",
            "2\n"
          ]
        }
      ]
    },
    {
      "cell_type": "markdown",
      "metadata": {
        "id": "RHbWuPsySZBG"
      },
      "source": [
        "Rook Move\n",
        "\n",
        "$$RULES$$\n",
        "\n",
        "(1) y1 == y2, x1 != x2\n",
        "(2) x1 == x2, y1 != y2"
      ]
    },
    {
      "cell_type": "code",
      "metadata": {
        "colab": {
          "base_uri": "https://localhost:8080/"
        },
        "id": "MAoHS_7zVCSp",
        "outputId": "16f82abc-1157-4b86-a630-613f5022aafc"
      },
      "source": [
        "x1 = int(input(\"insert x1 here\"))\n",
        "y1 = int(input(\"insert y1 here\"))\n",
        "x2 = int(input(\"insert x2 here\"))\n",
        "y2 = int(input(\"insert y2 here\"))\n",
        "if x1 == x2:\n",
        "  if y1 == y2:\n",
        "    print(\"NO\")\n",
        "  else: print(\"YES\")\n",
        "else:\n",
        "  if y1 == y2:\n",
        "    print(\"YES\")\n",
        "  else: print(\"NO\")"
      ],
      "execution_count": 49,
      "outputs": [
        {
          "output_type": "stream",
          "name": "stdout",
          "text": [
            "insert y1 here3\n",
            "insert x1 here1\n",
            "insert y1 here3\n",
            "insert x1 here4\n",
            "yes\n"
          ]
        }
      ]
    },
    {
      "cell_type": "markdown",
      "metadata": {
        "id": "S8Ndix00cClQ"
      },
      "source": [
        "Chess Board Same Color"
      ]
    },
    {
      "cell_type": "code",
      "metadata": {
        "colab": {
          "base_uri": "https://localhost:8080/"
        },
        "id": "T5TH1i7EcMhx",
        "outputId": "e656157d-dbdb-4f3d-df4d-41a20789c9b5"
      },
      "source": [
        "x1 = int(input(\"insert x1 here\"))\n",
        "y1 = int(input(\"insert y1 here\"))\n",
        "x2 = int(input(\"insert x2 here\"))\n",
        "y2 = int(input(\"insert y2 here\"))\n",
        "if (x1 + y1) % 2 == 0:\n",
        "  if (x2 + y2) % 2 == 0:\n",
        "    print(\"YES\")\n",
        "  else: print(\"NO\")\n",
        "else:\n",
        "  if (x2 + y2) % 2 == 0:\n",
        "    print(\"NO\")\n",
        "  else: print(\"YES\")\n"
      ],
      "execution_count": 55,
      "outputs": [
        {
          "output_type": "stream",
          "name": "stdout",
          "text": [
            "insert y1 here2\n",
            "insert x1 here2\n",
            "insert y1 here2\n",
            "insert x1 here5\n",
            "no\n"
          ]
        }
      ]
    },
    {
      "cell_type": "markdown",
      "metadata": {
        "id": "98nVYwiegnLH"
      },
      "source": [
        "King"
      ]
    },
    {
      "cell_type": "code",
      "metadata": {
        "colab": {
          "base_uri": "https://localhost:8080/"
        },
        "id": "2tQFE4jHgpL1",
        "outputId": "9c7dfe84-6e0c-41b1-f512-f8faf3a6e266"
      },
      "source": [
        "x1 = int(input(\"insert x1 here\"))\n",
        "y1 = int(input(\"insert y1 here\"))\n",
        "x2 = int(input(\"insert x2 here\"))\n",
        "y2 = int(input(\"insert y2 here\"))\n",
        "if abs(x1 - x2) == 1:\n",
        "  if abs(y1 - y2) == 1:\n",
        "    print(\"YES\")\n",
        "  else:\n",
        "    if abs(y1 - y2) == 0:\n",
        "      print(\"YES\")\n",
        "    else: print(\"NO\")\n",
        "else:\n",
        "  if abs(x1 - x2) == 0:\n",
        "    if abs(y1 - y2) == 1:\n",
        "      print(\"YES\")\n",
        "    else: print(\"NO\")\n",
        "  else: print(\"NO\")\n"
      ],
      "execution_count": 60,
      "outputs": [
        {
          "output_type": "stream",
          "name": "stdout",
          "text": [
            "insert y1 here4\n",
            "insert x1 here4\n",
            "insert y1 here5\n",
            "insert x1 here4\n",
            "yes\n"
          ]
        }
      ]
    },
    {
      "cell_type": "markdown",
      "metadata": {
        "id": "MPEHNF11kGPc"
      },
      "source": [
        "Bishop"
      ]
    },
    {
      "cell_type": "code",
      "metadata": {
        "id": "5NY5FibQkKkC"
      },
      "source": [
        "x1 = int(input(\"insert x1 here\"))\n",
        "y1 = int(input(\"insert y1 here\"))\n",
        "x2 = int(input(\"insert x2 here\"))\n",
        "y2 = int(input(\"insert y2 here\"))\n",
        "if abs(x1 - x2) == 1:\n",
        "  if abs(y1 - y2) == 1:\n",
        "    print(\"YES\")\n",
        "  else: print(\"NO\")\n",
        "else: \n",
        "  if abs(y1 - y2) == 1:\n",
        "    print(\"NO\")\n",
        "  else: \n",
        "    if abs(x1 - y1) % 2 == 0:\n",
        "      if abs(x2 - y2) % 2 == 0:\n",
        "        print(\"YES\")\n",
        "      else: print(\"NO\")\n",
        "    else: \n",
        "      if abs(x1 - y2) % 2== 0:\n",
        "        if abs(x2 - y1) % 2 == 0:\n",
        "          print(\"YES\")\n",
        "        else: print(\"NO\")\n",
        "      else: print(\"NO\")"
      ],
      "execution_count": null,
      "outputs": []
    },
    {
      "cell_type": "markdown",
      "metadata": {
        "id": "yXSj4bZqzqaR"
      },
      "source": [
        "Queen"
      ]
    },
    {
      "cell_type": "code",
      "metadata": {
        "id": "YdEVX8sYzrcp"
      },
      "source": [
        "x1 = int(input())\n",
        "y1 = int(input())\n",
        "x2 = int(input())\n",
        "y2 = int(input())\n",
        "if abs(x1 - x2) == abs(y1 - y2) or x1 == x2 or y1 == y2:\n",
        "    print('YES')\n",
        "else:\n",
        "    print('NO')\n"
      ],
      "execution_count": null,
      "outputs": []
    },
    {
      "cell_type": "markdown",
      "metadata": {
        "id": "G00retST-U6v"
      },
      "source": [
        "Knight\n",
        "\n",
        "$$RULES$$\n",
        "1)Vert_diff = 2\n",
        "hor_diff = 1\n",
        "\n",
        "2) vert_diff = 1\n",
        "hor_diff = 2\n",
        "\n",
        "vert diff = abs(y1 - y2)\n",
        "hor diff = abs(x1 - x2)"
      ]
    },
    {
      "cell_type": "code",
      "metadata": {
        "colab": {
          "base_uri": "https://localhost:8080/"
        },
        "id": "wKgmoUSj-Wow",
        "outputId": "7e841b84-b4f3-4552-ab27-6efb8e2c66e8"
      },
      "source": [
        "y1 = int(input(\"insert y1 here\"))\n",
        "x1 = int(input(\"insert x1 here\"))\n",
        "y2 = int(input(\"insert y1 here\"))\n",
        "x2 = int(input(\"insert x1 here\"))\n",
        "vert_dif = abs(y1 - y2)\n",
        "hor_dif = abs(x1 - x2)\n",
        "if vert_dif == 2 and hor_dif == 1 or hor_dif == 2 and vert_dif == 1:\n",
        "  print (\"yes\")\n",
        "else : print(\"no\")\n",
        "\n",
        "\n"
      ],
      "execution_count": 18,
      "outputs": [
        {
          "output_type": "stream",
          "name": "stdout",
          "text": [
            "insert y1 here4\n",
            "insert x1 here1\n",
            "insert y1 here2\n",
            "insert x1 here2\n",
            "yes\n"
          ]
        }
      ]
    },
    {
      "cell_type": "markdown",
      "metadata": {
        "id": "iTvdKFi7IpyC"
      },
      "source": [
        "Chocolate Bar"
      ]
    },
    {
      "cell_type": "code",
      "metadata": {
        "id": "tVlRCKBJ1laH"
      },
      "source": [
        "n = int(input())\n",
        "m = int(input())\n",
        "k = int(input())\n",
        "\n",
        "if (k % n == 0 and k / n < m) or (k % m == 0 and k / m < n):\n",
        "    print('YES')\n",
        "else:\n",
        "    print('NO')"
      ],
      "execution_count": null,
      "outputs": []
    },
    {
      "cell_type": "markdown",
      "metadata": {
        "id": "XmPq05j_3G87"
      },
      "source": [
        "Leap Year"
      ]
    },
    {
      "cell_type": "code",
      "metadata": {
        "id": "gRKg_r713JoM"
      },
      "source": [
        "x = int(input(\"insert year here\"))\n",
        "if x % 4 == 0:\n",
        "  if x % 100 == 0:\n",
        "    if x % 400 == 0:\n",
        "      print(\"YES\")\n",
        "    else: print(\"NO\")\n",
        "  else: print(\"YES\")\n",
        "else: print(\"NO\")"
      ],
      "execution_count": null,
      "outputs": []
    }
  ]
}