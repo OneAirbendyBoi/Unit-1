{
  "nbformat": 4,
  "nbformat_minor": 0,
  "metadata": {
    "colab": {
      "name": "Session 3.ipynb",
      "provenance": [],
      "authorship_tag": "ABX9TyOvmZxB/MtMao+Dvf+Apv2Z",
      "include_colab_link": true
    },
    "kernelspec": {
      "name": "python3",
      "display_name": "Python 3"
    },
    "language_info": {
      "name": "python"
    }
  },
  "cells": [
    {
      "cell_type": "markdown",
      "metadata": {
        "id": "view-in-github",
        "colab_type": "text"
      },
      "source": [
        "<a href=\"https://colab.research.google.com/github/OneAirbendyBoi/Unit-1/blob/main/Session_3.ipynb\" target=\"_parent\"><img src=\"https://colab.research.google.com/assets/colab-badge.svg\" alt=\"Open In Colab\"/></a>"
      ]
    },
    {
      "cell_type": "code",
      "metadata": {
        "id": "or2A9_r5gJTp"
      },
      "source": [
        "1) solve quadratic equations with values from user\n"
      ],
      "execution_count": null,
      "outputs": []
    },
    {
      "cell_type": "code",
      "metadata": {
        "colab": {
          "base_uri": "https://localhost:8080/"
        },
        "id": "t0Wgd1eHhtIP",
        "outputId": "c13cdeb1-9bf0-4a6f-ee8b-234b930bc290"
      },
      "source": [
        "#ask for values\n",
        "a = int(input(\"Enter value for a\"))\n",
        "b = int(input(\"Enter value for b\"))\n",
        "c = int(input(\"Enter value for c\"))\n",
        "#check if solution will be real\n",
        "condition = b**2 - 4*a*c\n",
        "if condition >= 0:\n",
        "  #find solution\n",
        "  x1 =(-b + condition**(1/2))/2*a\n",
        "  x2 =(-b - condition**(1/2))/2*a\n",
        "  print(f\"x= {x1},{x2}\")\n",
        "else:\n",
        "  print(f\"error encountered, solution is not real\")\n"
      ],
      "execution_count": 14,
      "outputs": [
        {
          "output_type": "stream",
          "text": [
            "Enter value for a2\n",
            "Enter value for b4\n",
            "Enter value for c4\n",
            "error encountered, solution is not real\n"
          ],
          "name": "stdout"
        }
      ]
    },
    {
      "cell_type": "markdown",
      "metadata": {
        "id": "fuMz5cSIlyCk"
      },
      "source": [
        "Create a program that calculates the tax for a salary entered by the user following the table below\n"
      ]
    },
    {
      "cell_type": "code",
      "metadata": {
        "colab": {
          "base_uri": "https://localhost:8080/"
        },
        "id": "UikU-AHdl7N_",
        "outputId": "1caed82d-1244-4504-f3e5-d7d08c469776"
      },
      "source": [
        "#ask for salary\n",
        "sal = int(input(\"enter salary in USD ($)\"))\n",
        "\n",
        "if sal < 0:\n",
        "  print(f\"error encountered, please input number over 0\")\n",
        "\n",
        "if 0 <= sal <= 10.000:\n",
        "  number = .05 * sal\n",
        "  \n",
        "if 10.001 <= sal <= 50.000:\n",
        "  number = .1 * sal\n",
        "\n",
        "if 50.001 <= sal <= 100.000:\n",
        "  number = .15 * sal\n",
        "\n",
        "if sal > 100.001:\n",
        "  number = .25 * sal\n",
        "\n",
        "tax = number\n",
        "print(f\"you tax amount is ${tax}\")\n",
        "\n"
      ],
      "execution_count": 26,
      "outputs": [
        {
          "output_type": "stream",
          "text": [
            "enter salary in USD ($)100\n",
            "you tax amount is $15.0\n"
          ],
          "name": "stdout"
        }
      ]
    },
    {
      "cell_type": "markdown",
      "metadata": {
        "id": "FHDmEsN6t81F"
      },
      "source": [
        "① Create a program that organizes from largest to smallest three heights in cms entered by the user."
      ]
    },
    {
      "cell_type": "code",
      "metadata": {
        "colab": {
          "base_uri": "https://localhost:8080/"
        },
        "id": "AVFVkBeDt_1A",
        "outputId": "205b3750-05a8-495b-81cd-33ef184eb9d6"
      },
      "source": [
        "#ask for values\n",
        "num1 = int(input(\"enter first value (cm)\"))\n",
        "num2 = int(input(\"enter second value (cm)\"))\n",
        "num3 = int(input(\"enter third value (cm)\"))\n",
        "#error input\n",
        "if num1 < 0:\n",
        "  print(f\"error, input value is invalid (first value)\")\n",
        "if num2 < 0:\n",
        "  print(f\"error, input value is invalid (second value)\")\n",
        "if num3 < 0:\n",
        "  print(f\"error, input value is invalid (third value)\")\n",
        "#arrange numbers and answer\n",
        "if num1 < num2 < num3:\n",
        "  print(f\"{num1} < {num2} < {num3}\")\n",
        "if num1 < num3 < num2:\n",
        "  print(f\"{num1} < {num3} < {num2}\")\n",
        "if num2 < num1 < num3:\n",
        "  print(f\"{num2} < {num1} < {num3}\")\n",
        "if num2 < num3 < num1:\n",
        "  print(f\"{num2} < {num3} < {num1}\")\n",
        "if num3 < num1 < num2:\n",
        "  print(f\"{num3} < {num1} < {num2}\")\n",
        "if num3 < num2 < num1:\n",
        "  print(f\"{num3} < {num2} < {num1}\")"
      ],
      "execution_count": 29,
      "outputs": [
        {
          "output_type": "stream",
          "text": [
            "enter first value (cm)21\n",
            "enter second value (cm)2\n",
            "enter third value (cm)333\n",
            "2 < 21 < 333\n"
          ],
          "name": "stdout"
        }
      ]
    }
  ]
}