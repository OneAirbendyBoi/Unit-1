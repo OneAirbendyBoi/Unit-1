{
  "nbformat": 4,
  "nbformat_minor": 0,
  "metadata": {
    "colab": {
      "name": "MysteryBoxes 30 September 2021",
      "provenance": [],
      "authorship_tag": "ABX9TyMIe9ynMq2OXRptrmOJh/oc",
      "include_colab_link": true
    },
    "kernelspec": {
      "name": "python3",
      "display_name": "Python 3"
    },
    "language_info": {
      "name": "python"
    }
  },
  "cells": [
    {
      "cell_type": "markdown",
      "metadata": {
        "id": "view-in-github",
        "colab_type": "text"
      },
      "source": [
        "<a href=\"https://colab.research.google.com/github/OneAirbendyBoi/Unit-1/blob/main/MysteryBoxes_30_September_2021.ipynb\" target=\"_parent\"><img src=\"https://colab.research.google.com/assets/colab-badge.svg\" alt=\"Open In Colab\"/></a>"
      ]
    },
    {
      "cell_type": "code",
      "metadata": {
        "id": "Ij_qQBm1g_Rc"
      },
      "source": [
        "def mysterybox1(word, trueorfalse):\n",
        "    if trueorfalse == \"True\":\n",
        "        return(word[::-1].lower())\n",
        "    else: return(word[::-1])\n",
        "\n",
        "my = mysterybox1(\"Hello\", \"False\")\n",
        "print(my)\n",
        "\n",
        "def mysterybox2(email):\n",
        "    name = email.split(\"@\")[0]\n",
        "    email = email.split(\"@\")[1]\n",
        "    firstname = name.split(\".\")[0]\n",
        "    lastname = name.split(\".\")[1]\n",
        "    return(f\"{firstname.capitalize()} {lastname.capitalize()}, {email}\")\n",
        "\n",
        "\n",
        "my2 = mysterybox2(\"colin.moore@gmail.com\")\n",
        "print(my2)\n",
        "\n",
        "def mysterybox3(num, num2, num3):\n",
        "    k = int(num)\n",
        "    g = int(num2)\n",
        "    b = int(num3)\n",
        "    if k < b > g:\n",
        "        greater = b\n",
        "    if k < g > b:\n",
        "        greater = g\n",
        "    if g < k > b:\n",
        "        greater = k\n",
        "    while(True):\n",
        "        if((greater % k == 0) and (greater % b ==0) and (greater % g ==0)):\n",
        "            lcm = greater\n",
        "            break\n",
        "        greater += 1\n",
        "    return lcm\n",
        "\n",
        "z = mysterybox3(7, 4, 18)\n",
        "print(z)\n",
        "\n",
        "def mysterybox4(a,b,c,d,e,f,g):\n",
        "    list = [a,b,c,d,e,f,g]\n",
        "    list.remove(d)\n",
        "    list.remove(g)\n",
        "    avg = (a + b + c + e + f)/len(list)\n",
        "    return(avg, list)\n",
        "\n",
        "p = mysterybox4(5, 6, 3, 8, 1, 7, 9)\n",
        "print(p)"
      ],
      "execution_count": null,
      "outputs": []
    }
  ]
}