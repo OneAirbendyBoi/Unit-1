{
  "nbformat": 4,
  "nbformat_minor": 0,
  "metadata": {
    "colab": {
      "name": "September 12 2021ipynb",
      "provenance": [],
      "authorship_tag": "ABX9TyOew7SZ47KNkqmCgjmyZV5h",
      "include_colab_link": true
    },
    "kernelspec": {
      "name": "python3",
      "display_name": "Python 3"
    },
    "language_info": {
      "name": "python"
    }
  },
  "cells": [
    {
      "cell_type": "markdown",
      "metadata": {
        "id": "view-in-github",
        "colab_type": "text"
      },
      "source": [
        "<a href=\"https://colab.research.google.com/github/OneAirbendyBoi/Unit-1/blob/main/September_12_2021.ipynb\" target=\"_parent\"><img src=\"https://colab.research.google.com/assets/colab-badge.svg\" alt=\"Open In Colab\"/></a>"
      ]
    },
    {
      "cell_type": "code",
      "metadata": {
        "colab": {
          "base_uri": "https://localhost:8080/"
        },
        "id": "WKtRP9iKFsVq",
        "outputId": "f42bcad4-c6cc-4145-9a09-7f28d5e20a64"
      },
      "source": [
        "for L in [\"A\", \"B\"]:\n",
        "  for n in range(1, 4):\n",
        "    print(f\"{L}{n}\")\n",
        "\n"
      ],
      "execution_count": null,
      "outputs": [
        {
          "output_type": "stream",
          "name": "stdout",
          "text": [
            "A1\n",
            "A2\n",
            "A3\n",
            "B1\n",
            "B2\n",
            "B3\n"
          ]
        }
      ]
    },
    {
      "cell_type": "code",
      "metadata": {
        "colab": {
          "base_uri": "https://localhost:8080/"
        },
        "id": "SPxdUF2WHTRd",
        "outputId": "cc9b5989-3651-4a13-bc1d-3a6c78b273ba"
      },
      "source": [
        "for L in [\"A\", \"B\"]:\n",
        "  for n in range(1, 4):\n",
        "    print(L, end = \"\")\n",
        "    for x in range(1, n+1):\n",
        "      print(x, end = \"\")\n",
        "    print(\"\")"
      ],
      "execution_count": null,
      "outputs": [
        {
          "output_type": "stream",
          "name": "stdout",
          "text": [
            "A1\n",
            "A12\n",
            "A123\n",
            "B1\n",
            "B12\n",
            "B123\n"
          ]
        }
      ]
    },
    {
      "cell_type": "code",
      "metadata": {
        "colab": {
          "base_uri": "https://localhost:8080/"
        },
        "id": "IQpUEgnwLGxM",
        "outputId": "d4252b94-19f0-446b-d043-d342bd0eadcd"
      },
      "source": [
        "n = int(input(\"enter number here\"))\n",
        "#range of multiplicand\n",
        "for k in range(1, n + 1):\n",
        "  #range of multiplier\n",
        "  for x in range(1, 11):\n",
        "    print(f\"{k} x {x} = {k*x}\")\n",
        "\n"
      ],
      "execution_count": 1,
      "outputs": [
        {
          "output_type": "stream",
          "name": "stdout",
          "text": [
            "enter number here3\n",
            "1 x 1 = 1\n",
            "1 x 2 = 2\n",
            "1 x 3 = 3\n",
            "1 x 4 = 4\n",
            "1 x 5 = 5\n",
            "1 x 6 = 6\n",
            "1 x 7 = 7\n",
            "1 x 8 = 8\n",
            "1 x 9 = 9\n",
            "1 x 10 = 10\n",
            "2 x 1 = 2\n",
            "2 x 2 = 4\n",
            "2 x 3 = 6\n",
            "2 x 4 = 8\n",
            "2 x 5 = 10\n",
            "2 x 6 = 12\n",
            "2 x 7 = 14\n",
            "2 x 8 = 16\n",
            "2 x 9 = 18\n",
            "2 x 10 = 20\n",
            "3 x 1 = 3\n",
            "3 x 2 = 6\n",
            "3 x 3 = 9\n",
            "3 x 4 = 12\n",
            "3 x 5 = 15\n",
            "3 x 6 = 18\n",
            "3 x 7 = 21\n",
            "3 x 8 = 24\n",
            "3 x 9 = 27\n",
            "3 x 10 = 30\n"
          ]
        }
      ]
    }
  ]
}